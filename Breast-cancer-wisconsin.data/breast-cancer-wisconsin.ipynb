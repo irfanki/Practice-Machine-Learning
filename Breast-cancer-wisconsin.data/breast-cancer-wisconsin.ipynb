{
 "cells": [
  {
   "cell_type": "code",
   "execution_count": 52,
   "metadata": {},
   "outputs": [],
   "source": [
    "import pandas as pd\n",
    "import numpy  as np\n",
    "import matplotlib.pyplot as plt\n",
    "%matplotlib inline\n",
    "from sklearn.model_selection import train_test_split\n",
    "from sklearn.ensemble import RandomForestClassifier\n",
    "from sklearn.svm import SVC\n",
    "from sklearn.neural_network import MLPClassifier\n"
   ]
  },
  {
   "cell_type": "code",
   "execution_count": 53,
   "metadata": {},
   "outputs": [],
   "source": [
    "df = pd.read_csv('breast-cancer-wisconsin.data.txt',sep=',',header=None)"
   ]
  },
  {
   "cell_type": "code",
   "execution_count": 54,
   "metadata": {},
   "outputs": [],
   "source": [
    "df.columns=['SampleNo','Clump_Thickness','Cell_Size_Uniformity','Cell_Shape_Uniformity','Marginal_Addition','Single_Epithelial',\n",
    "            'Bare_Nuclei' ,'Bland_Chromatine','Normal_Nucleoli','Mitoses','Class']       "
   ]
  },
  {
   "cell_type": "markdown",
   "metadata": {},
   "source": [
    "# Check for Duplicate "
   ]
  },
  {
   "cell_type": "code",
   "execution_count": 55,
   "metadata": {},
   "outputs": [
    {
     "data": {
      "text/plain": [
       "8"
      ]
     },
     "execution_count": 55,
     "metadata": {},
     "output_type": "execute_result"
    }
   ],
   "source": [
    "sum(df.duplicated())"
   ]
  },
  {
   "cell_type": "code",
   "execution_count": 56,
   "metadata": {},
   "outputs": [],
   "source": [
    "df.drop_duplicates(inplace=True)"
   ]
  },
  {
   "cell_type": "code",
   "execution_count": 57,
   "metadata": {},
   "outputs": [
    {
     "data": {
      "text/plain": [
       "0"
      ]
     },
     "execution_count": 57,
     "metadata": {},
     "output_type": "execute_result"
    }
   ],
   "source": [
    "sum(df.duplicated())"
   ]
  },
  {
   "cell_type": "markdown",
   "metadata": {},
   "source": [
    "# Check for Nan Value"
   ]
  },
  {
   "cell_type": "code",
   "execution_count": 58,
   "metadata": {},
   "outputs": [
    {
     "name": "stdout",
     "output_type": "stream",
     "text": [
      "<class 'pandas.core.frame.DataFrame'>\n",
      "Int64Index: 691 entries, 0 to 698\n",
      "Data columns (total 11 columns):\n",
      "SampleNo                 691 non-null int64\n",
      "Clump_Thickness          691 non-null int64\n",
      "Cell_Size_Uniformity     691 non-null int64\n",
      "Cell_Shape_Uniformity    691 non-null int64\n",
      "Marginal_Addition        691 non-null int64\n",
      "Single_Epithelial        691 non-null int64\n",
      "Bare_Nuclei              691 non-null object\n",
      "Bland_Chromatine         691 non-null int64\n",
      "Normal_Nucleoli          691 non-null int64\n",
      "Mitoses                  691 non-null int64\n",
      "Class                    691 non-null int64\n",
      "dtypes: int64(10), object(1)\n",
      "memory usage: 64.8+ KB\n"
     ]
    }
   ],
   "source": [
    "df.info()"
   ]
  },
  {
   "cell_type": "code",
   "execution_count": 80,
   "metadata": {},
   "outputs": [],
   "source": [
    "pd.to_numeric?"
   ]
  },
  {
   "cell_type": "code",
   "execution_count": 71,
   "metadata": {},
   "outputs": [],
   "source": [
    "df['Bare_Nuclei']=pd.to_numeric(df['Bare_Nuclei'],errors='coerce')"
   ]
  },
  {
   "cell_type": "markdown",
   "metadata": {},
   "source": [
    " ### If 'coerce', then invalid parsing will be set as NaN"
   ]
  },
  {
   "cell_type": "code",
   "execution_count": 72,
   "metadata": {},
   "outputs": [
    {
     "name": "stdout",
     "output_type": "stream",
     "text": [
      "<class 'pandas.core.frame.DataFrame'>\n",
      "Int64Index: 691 entries, 0 to 698\n",
      "Data columns (total 11 columns):\n",
      "SampleNo                 691 non-null int64\n",
      "Clump_Thickness          691 non-null int64\n",
      "Cell_Size_Uniformity     691 non-null int64\n",
      "Cell_Shape_Uniformity    691 non-null int64\n",
      "Marginal_Addition        691 non-null int64\n",
      "Single_Epithelial        691 non-null int64\n",
      "Bare_Nuclei              675 non-null float64\n",
      "Bland_Chromatine         691 non-null int64\n",
      "Normal_Nucleoli          691 non-null int64\n",
      "Mitoses                  691 non-null int64\n",
      "Class                    691 non-null int64\n",
      "dtypes: float64(1), int64(10)\n",
      "memory usage: 84.8 KB\n"
     ]
    }
   ],
   "source": [
    "df.info()"
   ]
  },
  {
   "cell_type": "code",
   "execution_count": 76,
   "metadata": {},
   "outputs": [],
   "source": [
    "df['Bare_Nuclei'].fillna(df['Bare_Nuclei'].mean(),inplace=True)"
   ]
  },
  {
   "cell_type": "code",
   "execution_count": 77,
   "metadata": {},
   "outputs": [
    {
     "name": "stdout",
     "output_type": "stream",
     "text": [
      "<class 'pandas.core.frame.DataFrame'>\n",
      "Int64Index: 691 entries, 0 to 698\n",
      "Data columns (total 11 columns):\n",
      "SampleNo                 691 non-null int64\n",
      "Clump_Thickness          691 non-null int64\n",
      "Cell_Size_Uniformity     691 non-null int64\n",
      "Cell_Shape_Uniformity    691 non-null int64\n",
      "Marginal_Addition        691 non-null int64\n",
      "Single_Epithelial        691 non-null int64\n",
      "Bare_Nuclei              691 non-null float64\n",
      "Bland_Chromatine         691 non-null int64\n",
      "Normal_Nucleoli          691 non-null int64\n",
      "Mitoses                  691 non-null int64\n",
      "Class                    691 non-null int64\n",
      "dtypes: float64(1), int64(10)\n",
      "memory usage: 84.8 KB\n"
     ]
    }
   ],
   "source": [
    "df.info()"
   ]
  },
  {
   "cell_type": "markdown",
   "metadata": {},
   "source": [
    "# Splitting the data"
   ]
  },
  {
   "cell_type": "code",
   "execution_count": 78,
   "metadata": {},
   "outputs": [],
   "source": [
    "X_train, X_test, y_train, y_test = train_test_split(df.iloc[:,:-1], df.iloc[:,-1], test_size=0.33, random_state=42)"
   ]
  },
  {
   "cell_type": "code",
   "execution_count": 79,
   "metadata": {},
   "outputs": [
    {
     "data": {
      "text/plain": [
       "0.9956709956709957"
      ]
     },
     "execution_count": 79,
     "metadata": {},
     "output_type": "execute_result"
    }
   ],
   "source": [
    "model = RandomForestClassifier()\n",
    "model.fit(X_train,y_train)\n",
    "model.score(X_train,y_train)"
   ]
  },
  {
   "cell_type": "code",
   "execution_count": null,
   "metadata": {},
   "outputs": [],
   "source": []
  }
 ],
 "metadata": {
  "kernelspec": {
   "display_name": "Python 3",
   "language": "python",
   "name": "python3"
  },
  "language_info": {
   "codemirror_mode": {
    "name": "ipython",
    "version": 3
   },
   "file_extension": ".py",
   "mimetype": "text/x-python",
   "name": "python",
   "nbconvert_exporter": "python",
   "pygments_lexer": "ipython3",
   "version": "3.6.4"
  }
 },
 "nbformat": 4,
 "nbformat_minor": 2
}
